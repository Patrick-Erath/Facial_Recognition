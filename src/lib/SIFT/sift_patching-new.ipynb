{
 "cells": [
  {
   "cell_type": "code",
   "execution_count": 1,
   "metadata": {},
   "outputs": [],
   "source": [
    "import numpy as np\n",
    "import matplotlib.pyplot as plt\n",
    "import os\n",
    "import copy\n",
    "import select\n",
    "from skimage import feature as ft\n",
    "import cv2\n",
    "from sklearn.metrics import confusion_matrix\n",
    "from sklearn.utils import shuffle\n",
    "import sys\n",
    "from sklearn import mixture\n",
    "\n",
    "importpath   = \"../../../Dataset/\"\n",
    "testrainpath = [\"Testing\", \"Training\"]\n",
    "namespath    = [\"/Abed/\", \"/Daniel/\", \"/Jules/\", \"/Lea/\", \"/Patrick/\"]\n",
    "rescaledpath = \"Rescaled\"\n",
    "croppedpath  = \"Cropped\"\n",
    "\n",
    "meta_data = {0: 'Abed', 1: 'Daniel', 2: 'Jules', 3: 'Lea', 4: 'Patrick'}\n",
    "\n",
    "def get_data(isCropped=True):\n",
    "\n",
    "    # Test train data\n",
    "    X_train = []\n",
    "    Y_train = []\n",
    "\n",
    "    X_test  = []\n",
    "    Y_test  = []\n",
    "\n",
    "    # define both import paths\n",
    "    testpath = importpath+testrainpath[0]\n",
    "    trainpath= importpath+testrainpath[1]\n",
    "\n",
    "    for i, npath in enumerate(namespath):\n",
    "\n",
    "        if isCropped:\n",
    "            testfolder = testpath + croppedpath + npath\n",
    "            trainfolder= trainpath+ croppedpath + npath\n",
    "        else:\n",
    "            testfolder = testpath + rescaledpath + npath\n",
    "            trainfolder= trainpath+ rescaledpath + npath\n",
    "\n",
    "        for imgname in os.listdir(testfolder):\n",
    "\n",
    "            img = cv2.imread(testfolder+imgname)\n",
    "            img = cv2.cvtColor(img, cv2.COLOR_BGR2RGB)\n",
    "\n",
    "            X_test.append(img)\n",
    "            Y_test.append(i)\n",
    "\n",
    "        for imgname2 in os.listdir(trainfolder):\n",
    "\n",
    "            img = cv2.imread(trainfolder+imgname2)\n",
    "            img = cv2.cvtColor(img, cv2.COLOR_BGR2RGB)\n",
    "\n",
    "            X_train.append(img)\n",
    "            Y_train.append(i)\n",
    "\n",
    "#     # once the data is saved, shuffle it\n",
    "#     X_train , Y_train = shuffle(X_train, Y_train)\n",
    "#     X_test  , Y_test  = shuffle(X_test, Y_test)\n",
    "\n",
    "    return np.asarray(X_train), np.asarray(Y_train), np.asarray(X_test), np.asarray(Y_test), meta_data\n"
   ]
  },
  {
   "cell_type": "code",
   "execution_count": 125,
   "metadata": {},
   "outputs": [],
   "source": [
    "def sift(img):\n",
    "\n",
    "    # copy image\n",
    "    img_disp = img.copy()\n",
    "    # convert to RGB\n",
    "    img = cv2.cvtColor(img, cv2.COLOR_BGR2RGB)\n",
    "    img_disp = cv2.cvtColor(img_disp, cv2.COLOR_BGR2RGB)\n",
    "\n",
    "    # create a SIFT object\n",
    "    sift = cv2.xfeatures2d.SIFT_create()\n",
    "\n",
    "    # detect SIFT features, with no masks\n",
    "    keypoints = sift.detect(img, None)\n",
    "    \n",
    "    p = []\n",
    "    keypoints3, descriptors = sift.compute(img, keypoints)\n",
    "    for k in keypoints3:\n",
    "        p.append(k.pt)\n",
    "\n",
    "    # draw the keypoints\n",
    "    cv2.drawKeypoints(img, keypoints, img_disp, flags=cv2.DRAW_MATCHES_FLAGS_DRAW_RICH_KEYPOINTS)\n",
    "\n",
    "    '''\n",
    "# #     display\n",
    "      plt.figure(figsize=(10, 10))\n",
    "      plt.subplot(121), plt.imshow(img)\n",
    "      plt.title(\"Input Image\"), plt.xticks([]), plt.yticks([])\n",
    "      plt.subplot(122), plt.imshow(img_disp)\n",
    "      plt.title(\"SIFT Features\"), plt.xticks([]), plt.yticks([])\n",
    "      plt.show()\n",
    "\n",
    "#     # num of SIFT keypoints\n",
    "      print('Num keypoints: ' + str(len(keypoints)))\n",
    "    '''\n",
    "\n",
    "    return p\n",
    "\n",
    "\n",
    "# Get croppped image coordinates in original image (x,y in top left corner)\n",
    "def get_coordinates(img_rescaled, img_cropped):\n",
    "    # imgggg_rgb = cv2.imread(\"../../../Dataset/TrainingRescaled/Abed/scale1_0.jpeg\")\n",
    "    # img_gray = cv2.cvtColor(img_rgb, cv2.COLOR_BGR2GRAY)\n",
    "    # template = cv2.imread(\"../../../Dataset/TrainingCropped/Abed/scale1_0.jpeg\", 0)\n",
    "    img_rescaled = cv2.cvtColor(img_rescaled, cv2.COLOR_BGR2GRAY)\n",
    "    img_cropped = cv2.cvtColor(img_cropped, cv2.COLOR_BGR2GRAY)\n",
    "    w, h = img_cropped.shape[::-1]\n",
    "    res = cv2.matchTemplate(img_rescaled, img_cropped, cv2.TM_SQDIFF)\n",
    "    min_val, max_val, min_loc, max_loc = cv2.minMaxLoc(res)\n",
    "    top_left = min_loc\n",
    "    bottom_right = (top_left[0] + w, top_left[1] + h)\n",
    "    x = top_left[0]\n",
    "    y = top_left[1]\n",
    "    return x, y\n",
    "\n",
    "\n",
    "def make_patch(img,img_cropped, size, k):\n",
    "    # get patch centers\n",
    "    patch_centers = []\n",
    "    for i in k:\n",
    "        patch_centers.append(i)\n",
    "\n",
    "    # extract patches\n",
    "    patch_images = []\n",
    "    patch_size = size\n",
    "    count=0\n",
    "    for center in patch_centers:\n",
    "        patchXStart = int(center[0] - (patch_size / 2.))\n",
    "        patchYStart = int(center[1] - (patch_size / 2.))\n",
    "        if((center[0] + patch_size)>img_cropped.shape[1] or (center[0] - patch_size)<0 or (center[1] + patch_size)>img_cropped.shape[0] or (center[1] - patch_size)<0 ):\n",
    "            count+=1\n",
    "            x,y = get_coordinates(img, img_cropped)\n",
    "            patchXStart += x\n",
    "            patchYStart += y\n",
    "            patch_images.append(img[patchXStart:patchXStart + patch_size, patchYStart:patchYStart + patch_size])\n",
    "        else:\n",
    "            patch_images.append(img_cropped[patchXStart:patchXStart + patch_size, patchYStart:patchYStart + patch_size])\n",
    "\n",
    "    '''\n",
    "     print(\"count= \" , count)\n",
    "     # display\n",
    "     for im in patch_images:\n",
    "         plt.figure(figsize=(5, 5))\n",
    "         plt.imshow(im, cmap='gray')\n",
    "         plt.title(\"Input Image\"), plt.xticks([]), plt.yticks([])\n",
    "         plt.show()\n",
    "    '''\n",
    "\n",
    "    return patch_images\n",
    "\n",
    "\n",
    "# ----- HoG Function ----- #\n",
    "def rgb2gray(im):\n",
    "    gray = im[:, :, 0] * 0.2989 + im[:, :, 1] * 0.5870 + im[:, :, 2] * 0.1140\n",
    "    return gray\n",
    "\n",
    "def hog_features(imgs, cells):\n",
    "    train_x = []\n",
    "    for data in imgs:\n",
    "        gray = rgb2gray(data) / 255.0\n",
    "        x = ft.hog(gray, orientations=9, pixels_per_cell=(2, 2),\n",
    "                   cells_per_block=(cells, cells), feature_vector=True)\n",
    "        train_x.append(x)\n",
    "    return train_x\n",
    "\n",
    "def get_hog(patches, cell_size):\n",
    "    hog_patches = []\n",
    "    for patch in patches:\n",
    "        hog_ft = hog_features(patch, cell_size)\n",
    "        hog_patches.append(hog_ft)\n",
    "    return hog_patches"
   ]
  },
  {
   "cell_type": "code",
   "execution_count": 239,
   "metadata": {},
   "outputs": [
    {
     "name": "stdout",
     "output_type": "stream",
     "text": [
      "(75, 20, 2025)\n"
     ]
    }
   ],
   "source": [
    "if __name__ == '__main__':\n",
    "\n",
    "   # Load Cropped Data\n",
    "\n",
    "    cropped_data = get_data(isCropped=True)\n",
    "    X_train_cropped = cropped_data[0]\n",
    "    Y_train_cropped = cropped_data[1]\n",
    "    X_test_cropped = cropped_data[2]\n",
    "    Y_test_cropped = cropped_data[3]\n",
    "    metadata_cropped = cropped_data[4]\n",
    "    \n",
    "    # Load Original Data\n",
    "    \n",
    "    data = get_data(isCropped=False)\n",
    "    X_train = data[0]\n",
    "    Y_train = data[1]\n",
    "    X_test = data[2]\n",
    "    Y_test = data[3]\n",
    "    metadata = data[4]\n",
    "\n",
    "    # Train Images\n",
    "\n",
    "    patches_train_list = []\n",
    "    for i in range(0, len(X_train_cropped)):\n",
    "        cropped_img = X_train_cropped[i]\n",
    "        original_img = X_train[i]\n",
    "        kp = sift(cropped_img)\n",
    "        patches_train = make_patch(img=original_img,img_cropped=cropped_img, size=15, k=kp[:20])\n",
    "        patches_train_list.append(patches_train)\n",
    "\n",
    "\n",
    "    # Test Images\n",
    "\n",
    "    patches_test_list = []\n",
    "    for i in range(0, len(X_test_cropped)):  \n",
    "        cropped_img_test = X_test_cropped[i]\n",
    "        original_img_test = X_test[i]\n",
    "        kp = sift(cropped_img_test)\n",
    "        patches_test = make_patch(img=original_img_test,img_cropped=cropped_img_test, size=15, k=kp[:20])\n",
    "        patches_test_list.append(patches_test)\n",
    "\n",
    "    # HOG - Training Patches\n",
    "\n",
    "    h_3_train = get_hog(patches_train_list, 3)\n",
    "    h_3_test = get_hog(patches_test_list, 3)\n",
    "    \n",
    "    h_4_train = get_hog(patches_train_list, 4)\n",
    "    h_4_test = get_hog(patches_test_list, 4)\n",
    "    \n",
    "    h_5_train = get_hog(patches_train_list, 5)\n",
    "    h_5_test = get_hog(patches_test_list, 5)\n",
    "    \n",
    "    print(np.shape(h_3_train))\n",
    "    \n",
    "    '''\n",
    "    # HOG - Testing Patches\n",
    "\n",
    "    h_3_test = get_hog(patches_test_list, 3)\n",
    "\n",
    "    \n",
    "    # Run EM\n",
    "    \n",
    "    \n",
    "    fit_data, accuracy, labels = get_em(h_3_train, Y_train, h_3_test, Y_test)\n",
    "    print(\"Validation Accuracy : \" ,accuracy)\n",
    "    \n",
    "    # Create the confusion matrix\n",
    "    conf = confusion_matrix(Y_test, labels)\n",
    "\n",
    "    # display\n",
    "    plt.figure()\n",
    "    plt.imshow(conf)\n",
    "    plt.title(\"Confusion Matrix\"), plt.xticks([]), plt.yticks([])\n",
    "    plt.show()\n",
    "    '''\n"
   ]
  },
  {
   "cell_type": "code",
   "execution_count": 240,
   "metadata": {},
   "outputs": [
    {
     "name": "stdout",
     "output_type": "stream",
     "text": [
      "Original data shape  (75, 20, 2025)\n"
     ]
    }
   ],
   "source": [
    "print('Original data shape ', np.shape(h_3_train))"
   ]
  },
  {
   "cell_type": "code",
   "execution_count": 241,
   "metadata": {},
   "outputs": [
    {
     "name": "stdout",
     "output_type": "stream",
     "text": [
      "Bag of words w/ Cell Size 3\n",
      "Bag of words Shape (75, 20)\n",
      "Word prediction for image 0 [3 4 1 3 5 1 1 3 4 1 5 5 2 2 6 7 1 6 0 3]\n",
      "Normalized Word count for image 0 Counter({1: 5, 5: 3, 4: 2, 2: 2, 6: 2, 7: 1, 0: 1, 3: 0.5})\n",
      "Word prediction for image 1 [4 4 4 4 4 1 1 5 4 5 2 2 2 7 7 6 1 0 3 3]\n",
      "Normalized Word count for image 1 Counter({1: 3, 2: 3, 5: 2, 7: 2, 3: 2, 6: 1, 0: 1, 4: 0.75})\n",
      "Word prediction for image 2 [3 4 0 4 1 4 2 1 1 1 6 1 5 3 0 3 1 3 6 7]\n",
      "Normalized Word count for image 2 Counter({1: 6, 4: 3, 0: 2, 6: 2, 2: 1, 5: 1, 7: 1, 3: 0.5})\n"
     ]
    },
    {
     "data": {
      "image/png": "[encoded data removed]",
      "text/plain": [
       "<Figure size 432x288 with 1 Axes>"
      ]
     },
     "metadata": {
      "needs_background": "light"
     },
     "output_type": "display_data"
    },
    {
     "data": {
      "image/png": "[encoded data removed]",
      "text/plain": [
       "<Figure size 432x288 with 1 Axes>"
      ]
     },
     "metadata": {
      "needs_background": "light"
     },
     "output_type": "display_data"
    },
    {
     "data": {
      "image/png": "[encoded data removed]",
      "text/plain": [
       "<Figure size 432x288 with 1 Axes>"
      ]
     },
     "metadata": {
      "needs_background": "light"
     },
     "output_type": "display_data"
    },
    {
     "name": "stdout",
     "output_type": "stream",
     "text": [
      "(70,)\n",
      "[0, 0, 0, 3, 3, 0, 0, 0, 0, 0, 0, 0, 0, 0, 0, 1, 1, 1, 1, 1, 1, 1, 1, 1, 2, 1, 1, 1, 1, 1, 2, 2, 2, 2, 2, 2, 2, 2, 2, 2, 2, 2, 2, 2, 2, 3, 3, 3, 3, 3, 3, 3, 3, 3, 3, 3, 3, 3, 3, 3, 4, 4, 4, 4, 4, 4, 4, 4, 4, 4]\n",
      "Correct 57.0\n",
      "Wrong 13.0\n",
      "Accuracy 0.8142857142857143\n",
      "Bag of words w/ Cell Size 4\n",
      "Bag of words Shape (75, 20)\n",
      "Word prediction for image 0 [4 6 0 4 2 0 0 5 6 1 0 0 2 2 3 5 5 3 7 4]\n",
      "Normalized Word count for image 0 Counter({0: 5, 2: 3, 5: 3, 6: 2, 3: 2, 1: 1, 7: 1, 4: 0.375})\n",
      "Word prediction for image 1 [1 0 0 0 0 7 1 3 0 3 4 4 4 2 2 6 5 2 1 1]\n",
      "Normalized Word count for image 1 Counter({0: 5, 4: 3, 2: 3, 3: 2, 7: 1, 6: 1, 5: 1, 1: 0.5})\n",
      "Word prediction for image 2 [5 6 2 6 1 6 4 1 1 1 4 1 0 3 2 5 1 5 7 4]\n",
      "Normalized Word count for image 2 Counter({1: 6, 6: 3, 4: 3, 2: 2, 0: 1, 3: 1, 7: 1, 5: 0.375})\n"
     ]
    },
    {
     "data": {
      "image/png": "[encoded data removed]",
      "text/plain": [
       "<Figure size 432x288 with 1 Axes>"
      ]
     },
     "metadata": {
      "needs_background": "light"
     },
     "output_type": "display_data"
    },
    {
     "data": {
      "image/png": "[encoded data removed]",
      "text/plain": [
       "<Figure size 432x288 with 1 Axes>"
      ]
     },
     "metadata": {
      "needs_background": "light"
     },
     "output_type": "display_data"
    },
    {
     "data": {
      "image/png": "[encoded data removed]",
      "text/plain": [
       "<Figure size 432x288 with 1 Axes>"
      ]
     },
     "metadata": {
      "needs_background": "light"
     },
     "output_type": "display_data"
    },
    {
     "name": "stdout",
     "output_type": "stream",
     "text": [
      "(70,)\n",
      "[4, 0, 0, 0, 4, 0, 0, 0, 0, 0, 0, 0, 0, 0, 0, 1, 1, 1, 1, 1, 1, 1, 1, 1, 1, 1, 1, 1, 1, 1, 2, 2, 2, 2, 2, 2, 2, 2, 2, 2, 2, 2, 2, 2, 2, 3, 3, 3, 3, 3, 3, 3, 3, 3, 3, 3, 3, 3, 3, 3, 4, 4, 4, 4, 4, 4, 4, 4, 4, 3]\n",
      "Correct 57.0\n",
      "Wrong 13.0\n",
      "Accuracy 0.8142857142857143\n",
      "Bag of words w/ Cell Size 5\n",
      "Bag of words Shape (75, 20)\n",
      "Word prediction for image 0 [1 6 1 1 5 2 2 4 6 4 5 5 3 3 0 1 2 0 1 7]\n",
      "Normalized Word count for image 0 Counter({5: 3, 2: 3, 6: 2, 4: 2, 3: 2, 0: 2, 7: 1, 1: 0.625})\n",
      "Word prediction for image 1 [4 5 1 5 1 1 0 6 2 6 4 4 2 3 3 7 0 1 0 0]\n",
      "Normalized Word count for image 1 Counter({1: 4, 0: 4, 5: 2, 6: 2, 2: 2, 3: 2, 7: 1, 4: 0.375})\n",
      "Word prediction for image 2 [4 1 5 1 2 1 6 2 2 2 3 2 3 4 0 4 0 4 7 6]\n",
      "Normalized Word count for image 2 Counter({2: 5, 1: 3, 6: 2, 3: 2, 0: 2, 5: 1, 7: 1, 4: 0.5})\n"
     ]
    },
    {
     "data": {
      "image/png": "[encoded data removed]",
      "text/plain": [
       "<Figure size 432x288 with 1 Axes>"
      ]
     },
     "metadata": {
      "needs_background": "light"
     },
     "output_type": "display_data"
    },
    {
     "data": {
      "image/png": "[encoded data removed]",
      "text/plain": [
       "<Figure size 432x288 with 1 Axes>"
      ]
     },
     "metadata": {
      "needs_background": "light"
     },
     "output_type": "display_data"
    },
    {
     "data": {
      "image/png": "[encoded data removed]",
      "text/plain": [
       "<Figure size 432x288 with 1 Axes>"
      ]
     },
     "metadata": {
      "needs_background": "light"
     },
     "output_type": "display_data"
    },
    {
     "name": "stdout",
     "output_type": "stream",
     "text": [
      "(70,)\n",
      "[1, 0, 0, 3, 0, 0, 0, 0, 0, 0, 0, 0, 0, 0, 0, 1, 1, 1, 1, 1, 1, 1, 0, 1, 1, 1, 1, 1, 1, 1, 2, 2, 3, 2, 2, 2, 2, 2, 2, 2, 2, 2, 2, 2, 2, 2, 3, 3, 3, 3, 3, 3, 3, 3, 3, 3, 3, 3, 3, 3, 4, 4, 4, 4, 4, 4, 4, 4, 4, 4]\n",
      "Correct 55.0\n",
      "Wrong 15.0\n",
      "Accuracy 0.7857142857142857\n"
     ]
    }
   ],
   "source": [
    "import collections\n",
    "\n",
    "NUMBER_OF_WORDS = 8\n",
    "NUMBER_OF_KEYPOINTS = 20\n",
    "\n",
    "def makeModel(patches, n_words, cov_type='spherical'):\n",
    "    gmm_ = mixture.GaussianMixture(covariance_type=cov_type, n_components=n_words)\n",
    "    gmm_.fit(patches)\n",
    "    #print(np.shape(patches))\n",
    "    #print('Weight of each cluster', gmm_test.weights_)\n",
    "    \n",
    "    # Assign each feature to a group\n",
    "    predictions = gmm_.predict(patches)\n",
    "    \n",
    "    # Get the count of each word\n",
    "    counts = collections.Counter(predictions)\n",
    "    \n",
    "    # Normalize \n",
    "    for word in counts:\n",
    "        counts[word] /= NUMBER_OF_WORDS\n",
    "        return predictions, counts\n",
    "    \n",
    "def closestDistance(bag_of_words_test, bag_of_words_train):\n",
    "    min_dist = 1e6\n",
    "    closest_matching = []\n",
    "    for i in range(len(bag_of_words_test)):\n",
    "        indx = i\n",
    "        for j in range(len(bag_of_words_train)):\n",
    "            temp_dist = np.linalg.norm(bag_of_words_test[i] - bag_of_words_train[j])\n",
    "            if(temp_dist < min_dist):\n",
    "                min_dist = temp_dist\n",
    "                indx = j\n",
    "        closest_matching.append(Y_train[indx])\n",
    "\n",
    "    print(np.shape(closest_matching))\n",
    "    print(closest_matching)\n",
    "\n",
    "    accuracy = np.zeros(2)\n",
    "    for i in range(len(closest_matching)):\n",
    "        if(Y_test[i] == closest_matching[i]):\n",
    "            accuracy[0] += 1\n",
    "        else:\n",
    "            accuracy[1] += 1\n",
    "\n",
    "    print('Correct', accuracy[0])\n",
    "    print('Wrong', accuracy[1])\n",
    "    print('Accuracy', accuracy[0]/(accuracy[0]+accuracy[1]))\n",
    "    \n",
    "    conf = confusion_matrix(Y_test, closest_matching)\n",
    "    \n",
    "    return accuracy, conf\n",
    "\n",
    "def BagOfWords(h_train, h_test):\n",
    "    # Make a model to predict each group of features for each train image\n",
    "    bag_of_words_train = []\n",
    "    counts_train = []\n",
    "    for i in range(len(h_train)):\n",
    "        words, count = makeModel(h_train[i], n_words=NUMBER_OF_WORDS)\n",
    "        bag_of_words_train.append(words)\n",
    "        counts_train.append(count)\n",
    "\n",
    "    print('Bag of words Shape', np.shape(bag_of_words))\n",
    "\n",
    "    for i in range(3):\n",
    "        print('Word prediction for image '+str(i), bag_of_words_train[i])\n",
    "        print('Normalized Word count for image '+str(i), counts_train[i])\n",
    "\n",
    "    # Display the histograms for 3 training images\n",
    "    for i in range(3):\n",
    "        n_words = NUMBER_OF_WORDS\n",
    "        kp = NUMBER_OF_KEYPOINTS\n",
    "        plt.xticks(np.arange(kp))\n",
    "        plt.xlabel('Word index')\n",
    "        plt.ylabel('Normalized Occurence')\n",
    "        plt.title('Normalized Histogram of Words for image '+str(i))\n",
    "        plt.bar(*zip(*counts_train[i].items()))\n",
    "        plt.show()\n",
    "\n",
    "    # Make a model to predict each group of features for each test image\n",
    "    bag_of_words_test = []\n",
    "    counts_test = []\n",
    "    for img in h_test:\n",
    "        words, count = makeModel(h_test[i], n_words=NUMBER_OF_WORDS)\n",
    "        bag_of_words_test.append(words)\n",
    "        counts_test.append(count)\n",
    "\n",
    "    # Find closest matching\n",
    "    accur = closestDistance(bag_of_words_test, bag_of_words_train)\n",
    "    \n",
    "    return accur\n",
    "\n",
    "print('Bag of words w/ Cell Size 3')\n",
    "acc3, conf3 = BagOfWords(h_3_train, h_3_test)\n",
    "print('Bag of words w/ Cell Size 4')\n",
    "acc4, conf4 = BagOfWords(h_4_train, h_4_test)\n",
    "print('Bag of words w/ Cell Size 5')\n",
    "acc5, conf5 = BagOfWords(h_5_train, h_5_test)\n",
    "\n",
    "accuracies = []\n",
    "accuracies.append(acc3)\n",
    "accuracies.append(acc4)\n",
    "accuracies.append(acc5)\n",
    "\n",
    "confusions = []\n",
    "confusions.append(conf3)\n",
    "confusions.append(conf4)\n",
    "confusions.append(conf5)"
   ]
  },
  {
   "cell_type": "code",
   "execution_count": 242,
   "metadata": {},
   "outputs": [
    {
     "name": "stdout",
     "output_type": "stream",
     "text": [
      "Accuracy of Bag of words w/ Cell Size3 81.42857142857143%\n"
     ]
    },
    {
     "data": {
      "image/png": "[encoded data removed]",
      "text/plain": [
       "<Figure size 432x288 with 1 Axes>"
      ]
     },
     "metadata": {},
     "output_type": "display_data"
    },
    {
     "name": "stdout",
     "output_type": "stream",
     "text": [
      "Accuracy of Bag of words w/ Cell Size4 81.42857142857143%\n"
     ]
    },
    {
     "data": {
      "image/png": "[encoded data removed]",
      "text/plain": [
       "<Figure size 432x288 with 1 Axes>"
      ]
     },
     "metadata": {},
     "output_type": "display_data"
    },
    {
     "name": "stdout",
     "output_type": "stream",
     "text": [
      "Accuracy of Bag of words w/ Cell Size5 78.57142857142857%\n"
     ]
    },
    {
     "data": {
      "image/png": "[encoded data removed]",
      "text/plain": [
       "<Figure size 432x288 with 1 Axes>"
      ]
     },
     "metadata": {},
     "output_type": "display_data"
    }
   ],
   "source": [
    "cell_size = [3, 4, 5]\n",
    "for i in range(len(accuracies)):\n",
    "    acc = accuracies[i][0] / (accuracies[i][0]+accuracies[i][1])\n",
    "    print('Accuracy of Bag of words w/ Cell Size' +str(cell_size[i])+' ' +str(acc*100) +'%' )\n",
    "    plt.figure()\n",
    "    plt.imshow(confusions[i])\n",
    "    plt.title(\"Confusion Matrix\"), plt.xticks([]), plt.yticks([])\n",
    "    plt.show()"
   ]
  },
  {
   "cell_type": "code",
   "execution_count": null,
   "metadata": {},
   "outputs": [],
   "source": []
  }
 ],
 "metadata": {
  "kernelspec": {
   "display_name": "Python 3",
   "language": "python",
   "name": "python3"
  },
  "language_info": {
   "codemirror_mode": {
    "name": "ipython",
    "version": 3
   },
   "file_extension": ".py",
   "mimetype": "text/x-python",
   "name": "python",
   "nbconvert_exporter": "python",
   "pygments_lexer": "ipython3",
   "version": "3.7.2"
  }
 },
 "nbformat": 4,
 "nbformat_minor": 2
}
